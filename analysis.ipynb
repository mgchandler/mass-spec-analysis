{
 "cells": [
  {
   "cell_type": "markdown",
   "id": "b874897a-fd04-4927-948c-839ac144bcd5",
   "metadata": {},
   "source": [
    "# Analysis of Mass Spec data\n",
    "\n",
    "Adapted from `main.py`.\n",
    "\n",
    "Run the original script either using something like [Spyder](https://www.spyder-ide.org/), or from the command line with command `python main.py <directory> output_name=<output_name> plot=<plot_diagnostic> stable_col=<stable_col>`, where all arguments are optional.\n",
    "- `directory` : path\n",
    "  - Location (relative or absolute) to the location in which data is stored. Optional, default: .\\data\n",
    "- `output_name` : str\n",
    "  - Name of the csv containing summary data. Optional, default: output.csv\n",
    "- `plot` : bool\n",
    "  - True/False switch for plotting summary data. Optional, default: False\n",
    "- `stable_col` : str\n",
    "  - Column heading used to determine which data is considered stable. Optional, default: 11B\n",
    "\n",
    "For the example data provided for which this script was developed, run\n",
    "  ```python main.py .\\data output_name=output.csv plot=True stable_col=11B```"
   ]
  },
  {
   "cell_type": "code",
   "execution_count": 1,
   "id": "4c12dec5-101b-415c-ab38-65ad9c923f88",
   "metadata": {},
   "outputs": [],
   "source": [
    "#%% Imports\n",
    "\n",
    "from massspecanalysis import *\n",
    "\n",
    "import matplotlib.pyplot as plt\n",
    "import os\n",
    "import pandas as pd\n",
    "from scipy.interpolate import interp1d\n",
    "import sys"
   ]
  },
  {
   "cell_type": "markdown",
   "id": "3c2f69a4-0265-4f6b-8c1d-6d33b7ed73d2",
   "metadata": {},
   "source": [
    "## Main body\n",
    "\n",
    "Original script takes command-line arguments. Redefine them here as parameters."
   ]
  },
  {
   "cell_type": "code",
   "execution_count": 2,
   "id": "27401a2a-bea8-4b3d-9891-5cf2223ec79f",
   "metadata": {},
   "outputs": [],
   "source": [
    "dirname = os.path.join(\".\", \"example_data\")  # Takes care of OS path differences.\n",
    "output_name = \"output.csv\"                   # Should include filetype. To save as an Excel spreadsheet, change the `to_csv()` method in the\n",
    "                                             #   last cell to `to_excel()`.\n",
    "plot_diagnostic = True                       # Save figures.\n",
    "stable_col = \"11B\"                           # Needs to be identical to column name in *.exp files."
   ]
  },
  {
   "cell_type": "markdown",
   "id": "9f790700-3bab-4afe-b3b0-825d1b32b3f1",
   "metadata": {},
   "source": [
    "Initialise a folder to store data. Keeps things tidy."
   ]
  },
  {
   "cell_type": "code",
   "execution_count": 3,
   "id": "c6a33915-fe1c-4c6a-a95c-705a0b945c02",
   "metadata": {},
   "outputs": [],
   "source": [
    "files = os.listdir(dirname)\n",
    "if \"output\" not in files:\n",
    "    os.mkdir(os.path.join(dirname, \"output\"))"
   ]
  },
  {
   "cell_type": "markdown",
   "id": "66babdde-0f89-4aea-98f2-e4b81ed026ca",
   "metadata": {},
   "source": [
    "To include regression of the blank signal, we need to pass through the data twice: once to collect the data for regression, and once to do the correction. More complicated regressions may depend on signal at a later time, so we cannot rely on only doing one pass."
   ]
  },
  {
   "cell_type": "code",
   "execution_count": 4,
   "id": "d6172c1b-e4e3-48a6-85c1-45ca727be658",
   "metadata": {},
   "outputs": [],
   "source": [
    "#%% Regression step\n",
    "gas_signals = pd.DataFrame([])\n",
    "for filename in files:\n",
    "    # Check filetype, make sure that we get output data only. Note *.exp is just a text file with a different filetype.\n",
    "    if filename[-4:] == \".exp\":\n",
    "        # Read in the data from this file. Alternative formats of data (e.g. from different machines) require a new read function.\n",
    "        info, data = read_exp(os.path.join(dirname, filename), skipfooter=13, index_col=0, sep='\\t', engine='python', usecols=range(8))\n",
    "        mmnt_cols = data.columns[data.columns != \"Time\"]\n",
    "        # Work out when the data is stable. Use 11B signal to do it.\n",
    "        start_cycle, end_cycle = stable_cycles(data[\"Time\"], data[stable_col])\n",
    "        # Else define a custom point to start measuring the gas signal.\n",
    "        # Use case tends to be ~500 cycles long, get the last ~50.\n",
    "        end_cycle = 450\n",
    "        # Work out what the blank gas signal is for all data cols.\n",
    "        gas_signal, first_blank_cycle = blank_signal(data.loc[end_cycle:, \"Time\"], data.loc[end_cycle:, mmnt_cols], factor=3)\n",
    "        # Store it for regression later.\n",
    "        gas_signals = pd.concat([gas_signals, pd.DataFrame(gas_signal, columns=[filename[:-4]]).transpose()])                "
   ]
  },
  {
   "cell_type": "markdown",
   "id": "8d9a209c-a683-4802-ae38-c9aac62424ed",
   "metadata": {},
   "source": [
    "Second pass: process the data and correct using the data stored in `gas_signals`. Note that signals are regressed in the `column` loop in this cell - to change the kind of regression, change the `kind` argument in `interp1d` [(documentation)](https://docs.scipy.org/doc/scipy/reference/generated/scipy.interpolate.interp1d.html#scipy.interpolate.interp1d). Simple examples are `kind=\"next\"`, which subtracts the gas value of the upcoming experiment (current behaviour), and `kind=\"linear\"` performs a linear interpolation between the previous and next points.\n",
    "\n",
    "(N.B. could move this up to inputs rather than written in the code here - expectation that this would be set and not changed, so leave it here for now.)"
   ]
  },
  {
   "cell_type": "code",
   "execution_count": 6,
   "id": "7191385d-1ad7-4648-a098-40f8ac904cac",
   "metadata": {},
   "outputs": [],
   "source": [
    "#%% Second pass: process the stable data.\n",
    "processed_data = pd.DataFrame([])\n",
    "for filename in files:\n",
    "    # Check filetype\n",
    "    if filename[-4:] == \".exp\":\n",
    "        # Read in the data.\n",
    "        info, data = read_exp(os.path.join(dirname, filename), skipfooter=13, index_col=0, sep='\\t', engine='python', usecols=range(8))\n",
    "        mmnt_cols = data.columns[data.columns != \"Time\"]\n",
    "        # Work out when sample is stable using 11B. Returns indices within which the sample is considered stable.\n",
    "        start_cycle, end_cycle = stable_cycles(data[\"Time\"], data[stable_col])\n",
    "        stable_data = data.loc[start_cycle:end_cycle, data.columns != \"Time\"]\n",
    "\n",
    "        # Regress the blank signals in time.\n",
    "        stable_corrected = stable_data.copy()\n",
    "        mmnt_time = [timestamp.timestamp() for timestamp in data.loc[start_cycle:end_cycle, \"Time\"].to_list()]\n",
    "        gas_time  = [timestamp.timestamp() for timestamp in gas_signals.loc[:, \"Time\"].to_list()]\n",
    "        for column in mmnt_cols:\n",
    "            gas_vals = gas_signals.loc[:, column+\" Mean\"].to_list()\n",
    "            # interp1d creates a function whose input is the query points. Change \"kind\" for different type of interpolation,\n",
    "            # options at https://docs.scipy.org/doc/scipy/reference/generated/scipy.interpolate.interp1d.html#scipy.interpolate.interp1d\n",
    "            # Note that kind=\"next\" subtracts the constant value coming up (this is the current behaviour)\n",
    "            # And kind=\"linear\" does a linear interpolation between previous and next points.\n",
    "            func = interp1d(gas_time, gas_vals, kind=\"next\", bounds_error=False, fill_value=(gas_vals[0], gas_vals[-1]))\n",
    "            stable_corrected.loc[:, column] -= func(mmnt_time)\n",
    "            \n",
    "        # Recalculate ratios\n",
    "        stable_corrected.loc[:, \"11B/10B (1)\"] = stable_corrected.loc[:, \"11B\"] / stable_corrected.loc[:, \"10B\"]\n",
    "        stable_corrected.loc[:, \"11B/10.066 (2)\"] = stable_corrected.loc[:, \"11B\"] / stable_corrected.loc[:, \"10.066\"]\n",
    "\n",
    "        # Combine stable_data and stable_corrected to remove any outliers.\n",
    "        # Note that we only need one copy of Time column, so remove the one\n",
    "        # in stable_corrected.\n",
    "        corrected_cols = stable_corrected.columns + \" Corrected\"\n",
    "        stable_corrected.columns = corrected_cols\n",
    "        stable_data = pd.concat([stable_data, stable_corrected[mmnt_cols+\" Corrected\"]], axis=1)\n",
    "\n",
    "        # Remove outliers\n",
    "        outlier_cols = [\"11B/10B (1)\", \"11B/10B (1) Corrected\"]\n",
    "        stable_data = remove_outliers(stable_data, outlier_cols)\n",
    "\n",
    "        #%% Do the analysis.\n",
    "        mean   = stable_data.mean(axis=0)\n",
    "        std    = stable_data.std(axis=0)\n",
    "        cycles = len(stable_data)\n",
    "\n",
    "        # Do the plotting\n",
    "        if plot_diagnostic:\n",
    "            # 11B vs cycle number: Showing stability.\n",
    "            title = \"{} Stable Data\".format(filename[:-4])\n",
    "            fig = plt.figure(figsize=(10, 5), dpi=100)\n",
    "            ax = fig.add_subplot(111)\n",
    "            ax.scatter(data.index, data[stable_col], 4, label=\"All data\")\n",
    "            ax.scatter(stable_data.index, stable_data[stable_col], 4, label=\"Stable data\")\n",
    "            ax.scatter(data.loc[first_blank_cycle:].index, data.loc[first_blank_cycle:, stable_col], 4, label=\"Gas signal\")\n",
    "            ax.set_xlabel(\"Cycle Number\")\n",
    "            ax.set_ylabel(f\"{stable_col} Voltage\")\n",
    "            ax.set_title(title)\n",
    "            ax.legend(loc=0)\n",
    "            ax.grid()\n",
    "            fig.savefig(os.path.join(dirname, \"output\", title+\".png\"))\n",
    "            plt.close()\n",
    "\n",
    "            # 11/10 B vs cycle number: Showing correction.\n",
    "            title = \"{} Correction\".format(filename[:-4])\n",
    "            fig = plt.figure(figsize=(10, 5), dpi=100)\n",
    "            ax = fig.add_subplot(111)\n",
    "            ax.scatter(stable_data.index, stable_data[\"11B/10B (1)\"], 4, label=\"Uncorrected\")\n",
    "            ax.scatter(stable_data.index, stable_data[\"11B/10B (1) Corrected\"], 4, label=\"Corrected\")\n",
    "            ax.set_xlabel(\"Cycle Number\")\n",
    "            ax.set_ylabel(\"11/10 B Voltage\")\n",
    "            ax.set_title(title)\n",
    "            ax.legend(loc=0)\n",
    "            ax.grid()\n",
    "            fig.savefig(os.path.join(dirname, \"output\", title+\".png\"))\n",
    "            plt.close()\n",
    "\n",
    "        output_data = rearrange_means(mean, std, pd.Series(cycles, index=['Cycles']))\n",
    "\n",
    "        #%% Store the data.\n",
    "        processed_data = pd.concat([processed_data, pd.DataFrame(output_data, columns=[filename[:-4]]).transpose()])"
   ]
  },
  {
   "cell_type": "code",
   "execution_count": 7,
   "id": "5587feef-5ce9-428e-9ead-af8ade5d6a08",
   "metadata": {},
   "outputs": [],
   "source": [
    "#%% Save the output\n",
    "processed_data.to_csv(os.path.join(dirname, \"output\", output_name))"
   ]
  },
  {
   "cell_type": "code",
   "execution_count": null,
   "id": "cdfe85ff-4dd0-4f06-b8f2-38e8d917f18a",
   "metadata": {},
   "outputs": [],
   "source": []
  }
 ],
 "metadata": {
  "kernelspec": {
   "display_name": "Python 3 (ipykernel)",
   "language": "python",
   "name": "python3"
  },
  "language_info": {
   "codemirror_mode": {
    "name": "ipython",
    "version": 3
   },
   "file_extension": ".py",
   "mimetype": "text/x-python",
   "name": "python",
   "nbconvert_exporter": "python",
   "pygments_lexer": "ipython3",
   "version": "3.10.9"
  }
 },
 "nbformat": 4,
 "nbformat_minor": 5
}
